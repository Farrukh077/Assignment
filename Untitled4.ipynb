{
  "nbformat": 4,
  "nbformat_minor": 0,
  "metadata": {
    "colab": {
      "provenance": [],
      "authorship_tag": "ABX9TyP0WQiEYdx45axMyIMzTfWm",
      "include_colab_link": true
    },
    "kernelspec": {
      "name": "python3",
      "display_name": "Python 3"
    },
    "language_info": {
      "name": "python"
    },
    "accelerator": "GPU"
  },
  "cells": [
    {
      "cell_type": "markdown",
      "metadata": {
        "id": "view-in-github",
        "colab_type": "text"
      },
      "source": [
        "<a href=\"https://colab.research.google.com/github/Farrukh077/Assignment/blob/main/Untitled4.ipynb\" target=\"_parent\"><img src=\"https://colab.research.google.com/assets/colab-badge.svg\" alt=\"Open In Colab\"/></a>"
      ]
    },
    {
      "cell_type": "code",
      "source": [
        "import sqlite3\n",
        " \n",
        "conn = sqlite3.connect('my.db')\n",
        " \n",
        "conn.execute('''\n",
        "CREATE TABLE Country (\n",
        "   Code VARCHAR(22) NULL,\n",
        "   Name NVARCHAR NOT NULL ,\n",
        "   Language VARCHAR NOT NULL \n",
        " );''')\n",
        " \n",
        "conn.commit()\n",
        " \n",
        "print(\"country table created\");\n",
        " \n",
        "conn.execute('''\n",
        "CREATE TABLE Booking_service (\n",
        "\tbooking_reference_number VARCHAR(22) PRIMARY KEY NOT NULL,\n",
        "\tpick_up_location     CHAR(18) NULL,\n",
        "\ttrip_date            TIMESTAMP NULL,\n",
        "\tstart_odometer_value VARCHAR(22) NULL,\n",
        "\tend_odometer_value   VARCHAR(22) NULL,\n",
        "\tdrop_off_location    CHAR(18) NULL,\n",
        "\tcapacity             CHAR(18) NULL\n",
        ");''')\n",
        " \n",
        "conn.commit()\n",
        " \n",
        "print(\"booking table created\");\n",
        "\n",
        "conn.execute('''\n",
        "CREATE TABLE Driver\n",
        "(\n",
        "\tDriver_ID       INTEGER PRIMARY KEY NOT NULL,\n",
        "\tDriver_name     VARCHAR(35) NULL,\n",
        "\tLicence_number       INTEGER NULL,\n",
        "\tClearance_level      NUMERIC(4) NULL,\n",
        "\tdriver_language      VARCHAR(22) NULL\n",
        ");''')\n",
        "\n",
        "conn.commit()\n",
        " \n",
        "print(\"Driver table created\");\n",
        "\n",
        "conn.execute('''\n",
        "CREATE TABLE Drop_off_location\n",
        "(\n",
        "\tdrop_off_location    CHAR(18) PRIMARY KEY NOT NULL,\n",
        "\tlocation_adress      VARCHAR(255) NULL,\n",
        "\tlocation_type        CHAR(18) NULL\n",
        ");''')\n",
        "\n",
        "conn.commit()\n",
        "\n",
        "print(\"Drop_off_location table created\");\n",
        "\n",
        "conn.execute('''\n",
        "CREATE TABLE FATL\n",
        "(\n",
        "\tDriver_ID            INTEGER PRIMARY KEY NOT NULL,\n",
        "\tFATL_level           numeric(1,10) NULL,\n",
        "\tqualification_date   TIMESTAMP NULL\n",
        ");''')\n",
        "conn.commit()\n",
        "\n",
        "print(\"FATL table created\");\n",
        "\n",
        "\n",
        "conn.execute('''\n",
        "CREATE TABLE Officials\n",
        "(\n",
        "\tCountry_ID           VARCHAR(22) PRIMARY KEY NOT NULL,\n",
        "\trole                 varchar(18) NULL,\n",
        "\tname                 varchar(18) NULL,\n",
        "\tofficials_language   CHAR(18) NULL,\n",
        "\tCity_ID              varchar(8) NULL\n",
        ");''')\n",
        "\n",
        "conn.commit()\n",
        "\n",
        "print(\" Officials table created\");\n",
        "\n",
        "\n",
        "conn.execute('''\n",
        "CREATE TABLE Pick_up_location\n",
        "(\n",
        "\tpick_up_location     CHAR(18) PRIMARY KEY NOT NULL,\n",
        "\tlocation_adress      VARCHAR(255) NULL,\n",
        "\tlocation_type        CHAR(18) NULL\n",
        ");''')\n",
        "\n",
        "conn.commit()\n",
        "\n",
        "print(\" Pick_up_location table created\");\n",
        "\n",
        "\n",
        "conn.execute('''\n",
        "CREATE TABLE STLVT\n",
        "(\n",
        "\tDriver_ID            INTEGER NOT  NULL,\n",
        "\tSTLVT_level          numeric(1,5) NULL,\n",
        "\tqualification_date   TIMESTAMP NULL\n",
        ");''')\n",
        "\n",
        "conn.commit()\n",
        "\n",
        "print(\" STVL table created\");\n",
        "\n",
        "conn.execute('''\n",
        "CREATE TABLE Vehicle\n",
        "(\n",
        "\tManufacturer         varchar(22) NULL,\n",
        "\tcolor                varchar(255) NULL,\n",
        "\tCurrent_odometer     INTEGER NULL,\n",
        "\tPassenger_capacity   INTEGER NULL,\n",
        "\tAction_type          INTEGER NULL,\n",
        "\tCost                 INTEGER NULL,\n",
        "\tDescription          varchar(255) NULL,\n",
        "\tDate_vehicle         TIMESTAMP NULL,\n",
        "\tDriver_ID            INTEGER NULL,\n",
        "\tregistration_ID      VARCHAR(20) NULL,\n",
        "\tModel                VARCHAR(20) NULL,\n",
        "\tVehicle_ID           VARCHAR(20) NULL\n",
        ");''')\n",
        "conn.commit()\n",
        "\n",
        "print(\" Vehicle table created\");\n",
        "\n",
        "conn.execute('''\n",
        "CREATE TABLE Vehicle_availability\n",
        "(\n",
        "\tbooking_reference_number VARCHAR(22) PRIMARY KEY NOT NULL,\n",
        "\tcondition            varchar(18) NULL,\n",
        "\tVehicle_ID           VARCHAR(20) NULL\n",
        ");''')\n",
        "\n",
        "conn.commit()\n",
        "\n",
        "print(\" vehicle_availability table created\");\n",
        "\n",
        " \n",
        "\n"
      ],
      "metadata": {
        "colab": {
          "base_uri": "https://localhost:8080/"
        },
        "id": "AhUIITrSx4aP",
        "outputId": "a9ce678e-63f1-4a77-d7df-b076752655fc"
      },
      "execution_count": 29,
      "outputs": [
        {
          "output_type": "stream",
          "name": "stdout",
          "text": [
            "country table created\n",
            "booking table created\n",
            "Driver table created\n",
            "Drop_off_location table created\n",
            "FATL table created\n",
            " Officials table created\n",
            " Pick_up_location table created\n",
            " STVL table created\n",
            " Vehicle table created\n",
            " vehicle_availability table created\n"
          ]
        }
      ]
    },
    {
      "cell_type": "code",
      "source": [
        "conn.execute(\"REPLACE INTO Country(Code,Name,Language) VALUES('ISO 3166-2','AFGHANISTAN','AF');\")\n",
        "conn.execute(\"REPLACE INTO Country(Code,Name,Language) VALUES('ISO 3166-2','Åland Islands','AX');\")\n",
        "conn.execute(\"REPLACE INTO Country(Code,Name,Language) VALUES('ISO 3166-2','Albania','AL');\")\n",
        "conn.execute(\"REPLACE INTO Country(Code,Name,Language) VALUES('ISO 3166-2','Algeria','DZ');\")\n",
        "conn.execute(\"REPLACE INTO Country(Code,Name,Language) VALUES('ISO 3166-2','American Samoa','AS');\")\n",
        "conn.execute(\"REPLACE INTO Country(Code,Name,Language) VALUES('ISO 3166-2','Angola','AO');\")\n",
        "conn.execute(\"REPLACE INTO Country(Code,Name,Language) VALUES('ISO 3166-2','Anguilla','AI');\")\n",
        "conn.execute(\"REPLACE INTO Country(Code,Name,Language) VALUES('ISO 3166-2','Antarctica','AQ');\")\n",
        "conn.execute(\"REPLACE INTO Country(Code,Name,Language) VALUES('ISO 3166-2','Antigua and Barbuda','AG');\")\n",
        "conn.execute(\"REPLACE INTO Country(Code,Name,Language) VALUES('ISO 3166-2','Argentina','AR');\")\n",
        "conn.execute(\"REPLACE INTO Country(Code,Name,Language) VALUES('ISO 3166-2','Armenia','AM');\")\n",
        "conn.execute(\"REPLACE INTO Country(Code,Name,Language) VALUES('ISO 3166-2','Aruba','AW');\")\n",
        "conn.execute(\"REPLACE INTO Country(Code,Name,Language) VALUES('ISO 3166-2','Australia','AU');\")\n",
        "conn.execute(\"REPLACE INTO Country(Code,Name,Language) VALUES('ISO 3166-2','Austria','AT');\")\n",
        "conn.execute(\"REPLACE INTO Country(Code,Name,Language) VALUES('ISO 3166-2','Azerbaijan','AZ');\")\n",
        "conn.execute(\"REPLACE INTO Country(Code,Name,Language) VALUES('ISO 3166-2','Bahamas (the)','BS');\")\n",
        "conn.execute(\"REPLACE INTO Country(Code,Name,Language) VALUES('ISO 3166-2','Bahrain','BH');\")\n",
        "conn.execute(\"REPLACE INTO Country(Code,Name,Language) VALUES('ISO 3166-2','Bangladesh','BD');\")\n",
        "conn.execute(\"REPLACE INTO Country(Code,Name,Language) VALUES('ISO 3166-2','Barbados','BB');\")\n",
        "conn.execute(\"REPLACE INTO Country(Code,Name,Language) VALUES('ISO 3166-2','Belarus','BY');\")\n",
        "conn.execute(\"REPLACE INTO Country(Code,Name,Language) VALUES('ISO 3166-2','Belgium','BE');\")\n",
        "conn.commit()"
      ],
      "metadata": {
        "id": "GBIgqtEa6nH7"
      },
      "execution_count": 30,
      "outputs": []
    },
    {
      "cell_type": "code",
      "source": [
        "conn = sqlite3.connect('my.db')\n",
        "cursor = conn.execute(''' SELECT * FROM Country ''')\n",
        "for tuples in cursor:\n",
        "  print(tuples)"
      ],
      "metadata": {
        "colab": {
          "base_uri": "https://localhost:8080/"
        },
        "id": "l-zCbq9nE4WQ",
        "outputId": "cefa145a-57f1-42fe-c527-084eea9cc798"
      },
      "execution_count": 31,
      "outputs": [
        {
          "output_type": "stream",
          "name": "stdout",
          "text": [
            "('ISO 3166-2', 'AFGHANISTAN', 'AF')\n",
            "('ISO 3166-2', 'Åland Islands', 'AX')\n",
            "('ISO 3166-2', 'Albania', 'AL')\n",
            "('ISO 3166-2', 'Algeria', 'DZ')\n",
            "('ISO 3166-2', 'American Samoa', 'AS')\n",
            "('ISO 3166-2', 'Angola', 'AO')\n",
            "('ISO 3166-2', 'Anguilla', 'AI')\n",
            "('ISO 3166-2', 'Antarctica', 'AQ')\n",
            "('ISO 3166-2', 'Antigua and Barbuda', 'AG')\n",
            "('ISO 3166-2', 'Argentina', 'AR')\n",
            "('ISO 3166-2', 'Armenia', 'AM')\n",
            "('ISO 3166-2', 'Aruba', 'AW')\n",
            "('ISO 3166-2', 'Australia', 'AU')\n",
            "('ISO 3166-2', 'Austria', 'AT')\n",
            "('ISO 3166-2', 'Azerbaijan', 'AZ')\n",
            "('ISO 3166-2', 'Bahamas (the)', 'BS')\n",
            "('ISO 3166-2', 'Bahrain', 'BH')\n",
            "('ISO 3166-2', 'Bangladesh', 'BD')\n",
            "('ISO 3166-2', 'Barbados', 'BB')\n",
            "('ISO 3166-2', 'Belarus', 'BY')\n",
            "('ISO 3166-2', 'Belgium', 'BE')\n"
          ]
        }
      ]
    },
    {
      "cell_type": "markdown",
      "source": [],
      "metadata": {
        "id": "sdbx6gQLO14A"
      }
    },
    {
      "cell_type": "code",
      "source": [
        "conn.execute(\"INSERT INTO Vehicle(Manufacturer,color,Current_odometer,Passenger_capacity,Action_type,Cost,Description,Date_vehicle,Driver_ID,registration_ID,Model,Vehicle_ID) VALUES('volvo','silver',4350,4,'M',50,'Comfortable',2020,12184773,'2001ABC','XC90 SE','V1000');\")\n",
        "conn.execute(\"INSERT INTO Vehicle(Manufacturer,color,Current_odometer,Passenger_capacity,Action_type,Cost,Description,Date_vehicle,Driver_ID,registration_ID,Model,Vehicle_ID) VALUES('Kia','black',2195,4,'R',45,'Convenient',2021,12185773,'2006 AFD','K7','V1001');\")\n",
        "conn.execute(\"INSERT INTO Vehicle(Manufacturer,color,Current_odometer,Passenger_capacity,Action_type,Cost,Description,Date_vehicle,Driver_ID,registration_ID,Model,Vehicle_ID) VALUES('Tesla','white',509,4,'R',60,'Luxury',2019,12186773,'2006 AFD','2020 F','V1001');\")\n",
        "conn.execute(\"INSERT INTO Vehicle(Manufacturer,color,Current_odometer,Passenger_capacity,Action_type,Cost,Description,Date_vehicle,Driver_ID,registration_ID,Model,Vehicle_ID) VALUES('Ford','silver',974,2,'M',30,'New',2022,12187773,'2020 DXF','Transit','V1003');\")\n",
        "\n",
        "conn.commit()"
      ],
      "metadata": {
        "id": "BVcr_35PKrqw"
      },
      "execution_count": 27,
      "outputs": []
    },
    {
      "cell_type": "code",
      "source": [
        "cursor = conn.execute(''' SELECT * FROM Vehicle ''')\n",
        " \n",
        "for row in cursor:\n",
        "  print(row)"
      ],
      "metadata": {
        "colab": {
          "base_uri": "https://localhost:8080/"
        },
        "id": "Q6RytDy2TuuZ",
        "outputId": "cdb340d2-cf4f-4e02-c61d-e06f53d724ce"
      },
      "execution_count": 28,
      "outputs": [
        {
          "output_type": "stream",
          "name": "stdout",
          "text": [
            "('volvo', 'silver', 4350, 4, 'M', 50, 'Comfortable', 2020, 12184773, '2001ABC', 'XC90 SE', 'V1000')\n",
            "('Kia', 'black', 2195, 4, 'R', 45, 'Convenient', 2021, 12185773, '2006 AFD', 'K7', 'V1001')\n",
            "('Tesla', 'white', 509, 4, 'R', 60, 'Luxury', 2019, 12186773, '2006 AFD', '2020 F', 'V1001')\n",
            "('Ford', 'silver', 974, 2, 'M', 30, 'New', 2022, 12187773, '2020 DXF', 'Transit', 'V1003')\n"
          ]
        }
      ]
    }
  ]
}