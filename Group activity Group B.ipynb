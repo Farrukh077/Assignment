{
  "cells": [
    {
      "cell_type": "markdown",
      "metadata": {
        "id": "view-in-github",
        "colab_type": "text"
      },
      "source": [
        "<a href=\"https://colab.research.google.com/github/Farrukh077/Assignment/blob/main/Group%20activity%20Group%20B.ipynb\" target=\"_parent\"><img src=\"https://colab.research.google.com/assets/colab-badge.svg\" alt=\"Open In Colab\"/></a>"
      ]
    },
    {
      "cell_type": "code",
      "source": [
        "from sqlalchemy import create_engine\n",
        "my_conn = create_engine(\"sqlite:////content/my_db.db/\")\n",
        "print(my_conn.name)"
      ],
      "metadata": {
        "colab": {
          "base_uri": "https://localhost:8080/"
        },
        "id": "BQPzE2HaQl_R",
        "outputId": "81498e10-cb81-4786-d2d7-49fe8432eb49"
      },
      "execution_count": 62,
      "outputs": [
        {
          "output_type": "stream",
          "name": "stdout",
          "text": [
            "sqlite\n"
          ]
        }
      ]
    },
    {
      "cell_type": "code",
      "source": [
        "# delete sample table student\n",
        "from sqlalchemy.exc import SQLAlchemyError\n",
        "try:\n",
        "  my_conn.execute('''DROP table student;''')\n",
        "  print(\"student table deleted\")\n",
        "except SQLAlchemyError as e:\n",
        "  error = str(e._dict_['orig'])\n",
        "  print(error)\n",
        "  #print(e)"
      ],
      "metadata": {
        "colab": {
          "base_uri": "https://localhost:8080/"
        },
        "id": "y0YgQnEejHf4",
        "outputId": "f89e7501-1efe-4dc8-b088-492a47dfb3bf"
      },
      "execution_count": 63,
      "outputs": [
        {
          "output_type": "stream",
          "name": "stdout",
          "text": [
            "student table deleted\n"
          ]
        }
      ]
    },
    {
      "cell_type": "code",
      "source": [
        "from sqlalchemy.exc import SQLAlchemyError\n",
        "try:\n",
        "  my_conn.execute('''\n",
        "    CREATE TABLE IF NOT EXISTS student(id varchar(22) primary key,\n",
        "                                       name varchar(22),\n",
        "                                       grade integer(22)\n",
        "                                       );''')\n",
        "  \n",
        "  print(\"Student Table created successfully\")\n",
        "except SQLAlchemyError as e:\n",
        "  error = str(e._dict_['orig'])\n",
        "  print(error)"
      ],
      "metadata": {
        "colab": {
          "base_uri": "https://localhost:8080/"
        },
        "id": "WbqAYUsFXwOb",
        "outputId": "0a2fc8ee-7d74-482d-9b26-135b63396bdf"
      },
      "execution_count": 64,
      "outputs": [
        {
          "output_type": "stream",
          "name": "stdout",
          "text": [
            "Student Table created successfully\n"
          ]
        }
      ]
    },
    {
      "cell_type": "code",
      "source": [
        "r_set=my_conn.execute('''INSERT INTO `student`\n",
        "(`id`,`name`,`grade`) VALUES\n",
        "(001, 'John Deo',4.0),\n",
        "(002, 'Max Ruin',4.5),\n",
        "(003, 'Arnold',3.0),\n",
        "(004, 'Krish Star',3.5),\n",
        "(005, 'John Mike',3.0),\n",
        "(006, 'Alex John',4.0),\n",
        "(007, 'My John Rob',2.5),\n",
        "(008, 'Asruid',2.0),\n",
        "(009, 'Tes Qry',3.0),\n",
        "(010, 'Big John',4.0),\n",
        "(011, 'Ronald',4.5),\n",
        "(012, 'Big Nose',3.0),\n",
        "(013, 'Rojj Base',3.5),\n",
        "(014, 'Tess Played',4.0),\n",
        "(015, 'Reppy Red',3.5),\n",
        "(016, 'Marry Toeey',2.0),\n",
        "(017, 'Binn Rott',3.5),\n",
        "(018, 'Bob Fischer',3.0),\n",
        "(019, 'Gain Toe',3.0),\n",
        "(020, 'Rows Noump',2.5);''')"
      ],
      "metadata": {
        "id": "BMqLkWSiX5_6"
      },
      "execution_count": 65,
      "outputs": []
    }
  ],
  "metadata": {
    "colab": {
      "collapsed_sections": [],
      "name": "Welcome To Colaboratory",
      "provenance": [],
      "include_colab_link": true
    },
    "kernelspec": {
      "display_name": "Python 3",
      "name": "python3"
    },
    "accelerator": "GPU",
    "gpuClass": "standard"
  },
  "nbformat": 4,
  "nbformat_minor": 0
}