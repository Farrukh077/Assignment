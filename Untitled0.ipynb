{
  "nbformat": 4,
  "nbformat_minor": 0,
  "metadata": {
    "colab": {
      "provenance": [],
      "authorship_tag": "ABX9TyMobwD7RRCBrmszk5BTL2P9",
      "include_colab_link": true
    },
    "kernelspec": {
      "name": "python3",
      "display_name": "Python 3"
    },
    "language_info": {
      "name": "python"
    },
    "accelerator": "GPU"
  },
  "cells": [
    {
      "cell_type": "markdown",
      "metadata": {
        "id": "view-in-github",
        "colab_type": "text"
      },
      "source": [
        "<a href=\"https://colab.research.google.com/github/Farrukh077/Assignment/blob/main/Untitled0.ipynb\" target=\"_parent\"><img src=\"https://colab.research.google.com/assets/colab-badge.svg\" alt=\"Open In Colab\"/></a>"
      ]
    },
    {
      "cell_type": "code",
      "execution_count": 14,
      "metadata": {
        "id": "PNJXGzgljdk4"
      },
      "outputs": [],
      "source": [
        "from sqlalchemy import create_engine\n",
        "my_conn = create_engine(\"sqlite:////content/my.db\")"
      ]
    },
    {
      "cell_type": "code",
      "source": [
        "r_set=my_conn.execute(\"SELECT * from Country\")\n",
        "for row in r_set:\n",
        "  print(row)"
      ],
      "metadata": {
        "colab": {
          "base_uri": "https://localhost:8080/"
        },
        "id": "2Sp-suYXk7RZ",
        "outputId": "b6125ace-0189-4eff-c4d5-c722808db293"
      },
      "execution_count": 15,
      "outputs": [
        {
          "output_type": "stream",
          "name": "stdout",
          "text": [
            "('ISO 3166-2', 'AFGHANISTAN', 'AF')\n",
            "('ISO 3166-2', 'Åland Islands', 'AX')\n",
            "('ISO 3166-2', 'Albania', 'AL')\n",
            "('ISO 3166-2', 'Algeria', 'DZ')\n",
            "('ISO 3166-2', 'American Samoa', 'AS')\n",
            "('ISO 3166-2', 'Angola', 'AO')\n",
            "('ISO 3166-2', 'Anguilla', 'AI')\n",
            "('ISO 3166-2', 'Antarctica', 'AQ')\n",
            "('ISO 3166-2', 'Antigua and Barbuda', 'AG')\n",
            "('ISO 3166-2', 'Argentina', 'AR')\n",
            "('ISO 3166-2', 'Armenia', 'AM')\n",
            "('ISO 3166-2', 'Aruba', 'AW')\n",
            "('ISO 3166-2', 'Australia', 'AU')\n",
            "('ISO 3166-2', 'Austria', 'AT')\n",
            "('ISO 3166-2', 'Azerbaijan', 'AZ')\n",
            "('ISO 3166-2', 'Bahamas (the)', 'BS')\n",
            "('ISO 3166-2', 'Bahrain', 'BH')\n",
            "('ISO 3166-2', 'Bangladesh', 'BD')\n",
            "('ISO 3166-2', 'Barbados', 'BB')\n",
            "('ISO 3166-2', 'Belarus', 'BY')\n",
            "('ISO 3166-2', 'Belgium', 'BE')\n"
          ]
        }
      ]
    },
    {
      "cell_type": "code",
      "source": [
        "r_set=my_conn.execute(\"SELECT * from Vehicle\")\n",
        "for row in r_set:\n",
        "  print(row)"
      ],
      "metadata": {
        "colab": {
          "base_uri": "https://localhost:8080/"
        },
        "id": "Kocq7j26l1E8",
        "outputId": "37ed7608-1cda-4eea-dff4-4a1c142980e5"
      },
      "execution_count": 16,
      "outputs": [
        {
          "output_type": "stream",
          "name": "stdout",
          "text": [
            "('volvo', 'silver', 4350, 4, 'M', 50, 'Comfortable', 2020, 12184773, '2001ABC', 'XC90 SE', 'V1000')\n",
            "('Kia', 'black', 2195, 4, 'R', 45, 'Convenient', 2021, 12185773, '2006 AFD', 'K7', 'V1001')\n",
            "('Tesla', 'white', 509, 4, 'R', 60, 'Luxury', 2019, 12186773, '2006 AFD', '2020 F', 'V1001')\n",
            "('Ford', 'silver', 974, 2, 'M', 30, 'New', 2022, 12187773, '2020 DXF', 'Transit', 'V1003')\n"
          ]
        }
      ]
    }
  ]
}